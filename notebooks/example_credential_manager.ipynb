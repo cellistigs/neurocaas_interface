{
 "cells": [
  {
   "cell_type": "markdown",
   "metadata": {},
   "source": [
    "## CredentialManager example\n",
    "\n",
    "The ``CredentialManager`` can be used to retrieve credentials from the neuroCAAS website.\n",
    "\n",
    "**WARNING:** \n",
    "* This will replace any current credentials on the .aws folder with those from neuroCAAS\n",
    "* When running from the notebook, the ``%gui qt`` magic needs to be ran from a separate cell"
   ]
  },
  {
   "cell_type": "code",
   "execution_count": 1,
   "metadata": {},
   "outputs": [],
   "source": [
    "%gui qt\n",
    "from neurocaas_interface import *"
   ]
  },
  {
   "cell_type": "code",
   "execution_count": 2,
   "metadata": {},
   "outputs": [
    {
     "data": {
      "text/plain": [
       "<neurocaas_interface.credentials.CredentialsManager at 0x7fc2be3dbcd0>"
      ]
     },
     "execution_count": 2,
     "metadata": {},
     "output_type": "execute_result"
    }
   ],
   "source": [
    "CredentialsManager()"
   ]
  },
  {
   "cell_type": "code",
   "execution_count": 3,
   "metadata": {},
   "outputs": [
    {
     "name": "stdout",
     "output_type": "stream",
     "text": [
      "There are 3739 files on the buckets.\n"
     ]
    }
   ],
   "source": [
    "# test the credentials by listing the contents of a bucket\n",
    "pref = read_config()\n",
    "files = s3_ls(**pref)\n",
    "print('There are {0} files on the buckets.'.format(len(files)))"
   ]
  },
  {
   "cell_type": "code",
   "execution_count": 5,
   "metadata": {},
   "outputs": [
    {
     "data": {
      "text/plain": [
       "{'buckets': ['cianalysispermastack'], 'groups': ['traviscipermagroup']}"
      ]
     },
     "execution_count": 5,
     "metadata": {},
     "output_type": "execute_result"
    }
   ],
   "source": [
    "pref"
   ]
  }
 ],
 "metadata": {
  "kernelspec": {
   "display_name": "Python 3",
   "language": "python",
   "name": "python3"
  },
  "language_info": {
   "codemirror_mode": {
    "name": "ipython",
    "version": 3
   },
   "file_extension": ".py",
   "mimetype": "text/x-python",
   "name": "python",
   "nbconvert_exporter": "python",
   "pygments_lexer": "ipython3",
   "version": "3.7.6"
  }
 },
 "nbformat": 4,
 "nbformat_minor": 4
}
