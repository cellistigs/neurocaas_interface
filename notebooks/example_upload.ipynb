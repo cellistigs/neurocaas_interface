{
 "cells": [
  {
   "cell_type": "markdown",
   "metadata": {},
   "source": [
    "### Submit a test job\n",
    "\n",
    "this is in ``jobtools.py``\n",
    "\n",
    "``NeuroCAASJob`` handles the uploading of data, job submission and monitoring. \n",
    "\n",
    "Multiple jobs are handled as separate threads. \n",
    "The ``state`` attribute of ``NeuroCAASJob`` has the current state of a job. \n",
    "In the future one should be able to load these objects to monitor jobs that are already running by forcing the ``state`` and passing the proper ``submit``.\n",
    "\n",
    "To run ``NeuroCAASJob`` from the notebook using widgets use the ``nbNeuroCAASJob`` class."
   ]
  },
  {
   "cell_type": "code",
   "execution_count": null,
   "metadata": {
    "scrolled": false
   },
   "outputs": [],
   "source": [
    "from neurocaas_interface import *\n",
    "\n",
    "cfg = read_config()\n",
    "testjob = {\"dataname\":\"traviscipermagroup/inputs/dataset1.npy\",\n",
    "           \"configname\": \"traviscipermagroup/configs/config_None_None.json\",\n",
    "           \"timestamp\": None}\n",
    "\n",
    "# uploadpath set to None will only upload the submit file.\n",
    "# this is just a dummy dataset\n",
    "import numpy as np\n",
    "np.save('test.npy',np.random.randn(10000000))\n",
    "\n",
    "# Run the job and monitor on the notebook\n",
    "jb = nbNeuroCAASJob(cfg['buckets'][0],cfg['groups'][0],\n",
    "                    submit=testjob, \n",
    "                    uploadpath = 'test.npy')\n",
    "\n",
    "# Or alternatively run without notebook output\n",
    "# jb = NeuroCAASJob(cfg['buckets'][0],cfg['groups'][0],\n",
    "#                     submit=testjob, \n",
    "#                     uploadpath = 'test.npy')\n"
   ]
  },
  {
   "cell_type": "code",
   "execution_count": null,
   "metadata": {},
   "outputs": [],
   "source": [
    "from neurocaas_interface import *\n",
    "\n",
    "cfg = read_config()\n",
    "testjob = {\"dataname\":\"traviscipermagroup/inputs/dataset1.json\",\n",
    "           \"configname\": \"traviscipermagroup/configs/config_None_None.json\",\n",
    "           \"timestamp\": None}\n",
    "\n",
    "# uploadpath set to None will only upload the submit file.\n",
    "jb = NeuroCAASJob(cfg['buckets'][0],cfg['groups'][0],submit=testjob, uploadpath = None)\n"
   ]
  }
 ],
 "metadata": {
  "kernelspec": {
   "display_name": "Python 3",
   "language": "python",
   "name": "python3"
  },
  "language_info": {
   "codemirror_mode": {
    "name": "ipython",
    "version": 3
   },
   "file_extension": ".py",
   "mimetype": "text/x-python",
   "name": "python",
   "nbconvert_exporter": "python",
   "pygments_lexer": "ipython3",
   "version": "3.7.6"
  }
 },
 "nbformat": 4,
 "nbformat_minor": 4
}
