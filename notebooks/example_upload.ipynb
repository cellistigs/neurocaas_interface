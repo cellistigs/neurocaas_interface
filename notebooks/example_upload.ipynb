{
 "cells": [
  {
   "cell_type": "code",
   "execution_count": 7,
   "metadata": {},
   "outputs": [],
   "source": [
    "from neurocaas_interface import *\n",
    "\n",
    "# List all files in all analysis buckets\n",
    "config = read_config()\n",
    "remotefiles = s3_ls(config['buckets'])\n"
   ]
  },
  {
   "cell_type": "markdown",
   "metadata": {},
   "source": [
    "### Submit a test job\n",
    "\n",
    "this is in ``jobtools.py``\n",
    "\n",
    "``NeuroCAASJob`` handles the uploading of data, job submission and monitoring. \n",
    "\n",
    "Multiple jobs are handled as separate threads. \n",
    "The ``state`` attribute of ``NeuroCAASJob`` has the current state of a job. \n",
    "In the future one should be able to load these objects to monitor jobs that are already running by forcing the ``state`` and passing the proper ``submit``.\n",
    "\n",
    "Right now it only uploads and submits the `submit.json` file. "
   ]
  },
  {
   "cell_type": "code",
   "execution_count": 2,
   "metadata": {},
   "outputs": [
    {
     "name": "stdout",
     "output_type": "stream",
     "text": [
      "init\n",
      "uploaded\n",
      "submitted\n",
      "started\n",
      "completed\n",
      "Stopped.\n"
     ]
    }
   ],
   "source": [
    "from neurocaas_interface import *\n",
    "\n",
    "cfg = read_config()\n",
    "testjob = {\"dataname\":\"traviscipermagroup/inputs/dataset1.json\",\n",
    "           \"configname\": \"traviscipermagroup/configs/config_None_None.json\",\n",
    "           \"timestamp\": None}\n",
    "\n",
    "# uploadpath set to None will only upload the submit file.\n",
    "jb = NeuroCAASJob(cfg['buckets'][0],cfg['groups'][0],submit=testjob, uploadpath = None)\n"
   ]
  },
  {
   "cell_type": "code",
   "execution_count": 3,
   "metadata": {},
   "outputs": [
    {
     "name": "stdout",
     "output_type": "stream",
     "text": [
      "[21-03-16 00:54:01] - No datafile to upload.\r\n",
      "[21-03-16 00:54:01] - Submitted job 20210316_005401\r\n",
      "[21-03-16 00:54:32] - No datafile to upload.\r\n",
      "[21-03-16 00:54:32] - Submitted job 20210316_005432\r\n",
      "[21-03-16 01:00:45] - No datafile to upload.\r\n",
      "[21-03-16 01:00:45] - Submitted job 20210316_010045\r\n",
      "[21-03-16 01:01:33] - No datafile to upload.\r\n",
      "[21-03-16 01:01:33] - Submitted job 20210316_010133\r\n",
      "[21-03-16 01:02:14] - No datafile to upload.\r\n",
      "[21-03-16 01:02:15] - Submitted job 20210316_010214\r\n",
      "[21-03-16 01:03:03] - No datafile to upload.\r\n",
      "[21-03-16 01:03:03] - Submitted job 20210316_010303\r\n",
      "[21-03-16 01:04:58] - No datafile to upload.\r\n",
      "[21-03-16 01:04:59] - Submitted job 20210316_010458\r\n",
      "[21-03-16 01:05:05] - No datafile to upload.\r\n",
      "[21-03-16 01:05:06] - Submitted job 20210316_010505\r\n",
      "[21-03-16 01:06:07] - No datafile to upload.\r\n",
      "[21-03-16 01:06:08] - Submitted job 20210316_010607\r\n",
      "[21-03-16 01:06:13] - No datafile to upload.\r\n",
      "[21-03-16 01:06:13] - Submitted job 20210316_010613\r\n"
     ]
    }
   ],
   "source": [
    "# look at the log \n",
    "!cat /home/joao/.neurocaas/neurocaas_log.txt"
   ]
  },
  {
   "cell_type": "code",
   "execution_count": null,
   "metadata": {},
   "outputs": [],
   "source": []
  },
  {
   "cell_type": "code",
   "execution_count": 6,
   "metadata": {},
   "outputs": [
    {
     "data": {
      "text/plain": [
       "{'buckets': ['cianalysispermastack'], 'groups': ['traviscipermagroup']}"
      ]
     },
     "execution_count": 6,
     "metadata": {},
     "output_type": "execute_result"
    }
   ],
   "source": [
    "read_config()"
   ]
  }
 ],
 "metadata": {
  "kernelspec": {
   "display_name": "Python 3",
   "language": "python",
   "name": "python3"
  },
  "language_info": {
   "codemirror_mode": {
    "name": "ipython",
    "version": 3
   },
   "file_extension": ".py",
   "mimetype": "text/x-python",
   "name": "python",
   "nbconvert_exporter": "python",
   "pygments_lexer": "ipython3",
   "version": "3.7.6"
  }
 },
 "nbformat": 4,
 "nbformat_minor": 4
}
