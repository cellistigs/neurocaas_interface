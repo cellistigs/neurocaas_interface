{
 "cells": [
  {
   "cell_type": "code",
   "execution_count": 7,
   "metadata": {},
   "outputs": [],
   "source": [
    "from neurocaas_interface import *\n",
    "\n",
    "# List all files in all analysis buckets\n",
    "config = read_config()\n",
    "remotefiles = s3_ls(config['buckets'])\n"
   ]
  },
  {
   "cell_type": "markdown",
   "metadata": {},
   "source": [
    "### Submit a test job\n",
    "\n",
    "this is in ``jobtools.py``\n",
    "\n",
    "``NeuroCAASJob`` handles the uploading of data, job submission and monitoring. \n",
    "\n",
    "Multiple jobs are handled as separate threads. \n",
    "The ``state`` attribute of ``NeuroCAASJob`` has the current state of a job. \n",
    "In the future one should be able to load these objects to monitor jobs that are already running by forcing the ``state`` and passing the proper ``submit``.\n",
    "\n",
    "Right now it only uploads and submits the `submit.json` file. "
   ]
  },
  {
   "cell_type": "code",
   "execution_count": 18,
   "metadata": {},
   "outputs": [
    {
     "data": {
      "text/plain": [
       "[]"
      ]
     },
     "execution_count": 18,
     "metadata": {},
     "output_type": "execute_result"
    }
   ],
   "source": []
  },
  {
   "cell_type": "code",
   "execution_count": 1,
   "metadata": {},
   "outputs": [],
   "source": [
    "from neurocaas_interface import *\n",
    "\n",
    "cfg = read_config()\n",
    "testjob = {\"dataname\":\"traviscipermagroup/inputs/dataset1.json\",\n",
    "           \"configname\": \"traviscipermagroup/configs/config_None_None.json\",\n",
    "           \"timestamp\": None}\n",
    "\n",
    "# uploadpath set to None will only upload the submit file.\n",
    "jb = NeuroCAASJob(cfg['buckets'][0],cfg['groups'][0],submit=testjob, uploadpath = None)\n"
   ]
  },
  {
   "cell_type": "code",
   "execution_count": 3,
   "metadata": {},
   "outputs": [
    {
     "data": {
      "text/plain": [
       "dict_keys(['ResponseMetadata', 'IsTruncated', 'Contents', 'Name', 'Prefix', 'MaxKeys', 'EncodingType', 'KeyCount'])"
      ]
     },
     "execution_count": 3,
     "metadata": {},
     "output_type": "execute_result"
    }
   ],
   "source": [
    "jb.client.list_objects_v2(Bucket = jb.bucket,Prefix=jb.resultsprefix).keys()"
   ]
  },
  {
   "cell_type": "code",
   "execution_count": 12,
   "metadata": {},
   "outputs": [
    {
     "data": {
      "text/plain": [
       "'traviscipermagroup/results/job__cianalysispermastack_20210417_174900/logs/certificate.txt'"
      ]
     },
     "execution_count": 12,
     "metadata": {},
     "output_type": "execute_result"
    }
   ],
   "source": [
    "jb.resultsprefix+'/logs/certificate.txt'"
   ]
  },
  {
   "cell_type": "code",
   "execution_count": 13,
   "metadata": {},
   "outputs": [],
   "source": [
    "fl = jb.s3.Object(jb.bucket,jb.resultsprefix+'/logs/certificate.txt')"
   ]
  },
  {
   "cell_type": "code",
   "execution_count": 16,
   "metadata": {},
   "outputs": [
    {
     "data": {
      "text/plain": [
       "b\"REQUEST START TIME: 2021-04-18 00:49:04.12 (GMT)\\t [+0:00:00.00]\\nANALYSIS VERSION ID: \\t [+0:00:00.13]\\nJOB ID: 20210417_174900\\t [+0:00:00.17]\\n\\n \\n[Job Manager] Detected new job: starting up.\\t [+0:00:00.26]\\n        [Internal (init)] Initializing job manager.\\t [+0:00:00.31]\\n        [Internal (init)] Using default instance type t2.micro from config file.\\t [+0:00:00.37]\\n        [Internal (init)] Analysis request with dataset(s): traviscipermagroup/inputs/dataset1.json, config file traviscipermagroup/configs/config_None_None.json\\t [+0:00:00.43]\\n[Job Manager] STEP 1/4 (Initialization): DONE\\t [+0:00:00.47]\\n        [Internal (get_costmonitoring)] Customized budget not found. Using default budget value of 300.0\\t [+0:01:44.35]\\n        [Internal (get_costmonitoring)] Incurred cost so far: $1.0827081111111123. Remaining budget: $298.9172918888889\\t [+0:01:44.35]\\n[Job Manager] STEP 2/4 (Validation): DONE\\t [+0:01:44.42]\\n        [Internal (parse_config)] parameter __duration__ not given, proceeding with standard compute launch.\\t [+0:01:44.54]\\n        [Internal (parse_config)] parameter __dataset_size__ is not given, proceeding with standard storage.\\t [+0:01:44.60]\\n[Job Manager] STEP 3/4 (Environment Setup): DONE\\t [+0:01:44.88]\\n        [Utils] Acquiring new t2.micro instances from ami-061f98a1f90c0d6fd ...\\t [+0:01:45.32]\\n        [Utils] save not available (duration not given or greater than 6 hours). Launching standard instance.\\t [+0:01:45.32]\\n        [Utils] New instance ec2.Instance(id='i-089b23b99f10730bc') created!\\t [+0:01:47.36]\\n        [Internal (put_instance_monitor_rule)] Setting up monitoring on all instances...\\t [+0:01:47.88]\\n        [Utils] Instance i-089b23b99f10730bc State: pending...\\t [+0:01:48.21]\\n        [Utils] Starting Instance...\\t [+0:01:48.21]\""
      ]
     },
     "execution_count": 16,
     "metadata": {},
     "output_type": "execute_result"
    }
   ],
   "source": [
    "fl.get()['Body'].read()"
   ]
  },
  {
   "cell_type": "code",
   "execution_count": 1,
   "metadata": {},
   "outputs": [],
   "source": [
    "from neurocaas_interface import *\n",
    "\n",
    "cfg = read_config()\n",
    "testjob = {\"dataname\":\"traviscipermagroup/inputs/dataset1.json\",\n",
    "           \"configname\": \"traviscipermagroup/configs/config_None_None.json\",\n",
    "           \"timestamp\": None}\n",
    "\n",
    "# uploadpath set to None will only upload the submit file.\n",
    "jb = NeuroCAASJob(cfg['buckets'][0],cfg['groups'][0],submit=testjob, uploadpath = None)\n"
   ]
  },
  {
   "cell_type": "code",
   "execution_count": 3,
   "metadata": {},
   "outputs": [
    {
     "name": "stdout",
     "output_type": "stream",
     "text": [
      "[21-03-16 00:54:01] - No datafile to upload.\r\n",
      "[21-03-16 00:54:01] - Submitted job 20210316_005401\r\n",
      "[21-03-16 00:54:32] - No datafile to upload.\r\n",
      "[21-03-16 00:54:32] - Submitted job 20210316_005432\r\n",
      "[21-03-16 01:00:45] - No datafile to upload.\r\n",
      "[21-03-16 01:00:45] - Submitted job 20210316_010045\r\n",
      "[21-03-16 01:01:33] - No datafile to upload.\r\n",
      "[21-03-16 01:01:33] - Submitted job 20210316_010133\r\n",
      "[21-03-16 01:02:14] - No datafile to upload.\r\n",
      "[21-03-16 01:02:15] - Submitted job 20210316_010214\r\n",
      "[21-03-16 01:03:03] - No datafile to upload.\r\n",
      "[21-03-16 01:03:03] - Submitted job 20210316_010303\r\n",
      "[21-03-16 01:04:58] - No datafile to upload.\r\n",
      "[21-03-16 01:04:59] - Submitted job 20210316_010458\r\n",
      "[21-03-16 01:05:05] - No datafile to upload.\r\n",
      "[21-03-16 01:05:06] - Submitted job 20210316_010505\r\n",
      "[21-03-16 01:06:07] - No datafile to upload.\r\n",
      "[21-03-16 01:06:08] - Submitted job 20210316_010607\r\n",
      "[21-03-16 01:06:13] - No datafile to upload.\r\n",
      "[21-03-16 01:06:13] - Submitted job 20210316_010613\r\n"
     ]
    }
   ],
   "source": [
    "# look at the log \n",
    "!cat /home/joao/.neurocaas/neurocaas_log.txt"
   ]
  },
  {
   "cell_type": "code",
   "execution_count": null,
   "metadata": {},
   "outputs": [],
   "source": []
  },
  {
   "cell_type": "code",
   "execution_count": 6,
   "metadata": {},
   "outputs": [
    {
     "data": {
      "text/plain": [
       "{'buckets': ['cianalysispermastack'], 'groups': ['traviscipermagroup']}"
      ]
     },
     "execution_count": 6,
     "metadata": {},
     "output_type": "execute_result"
    }
   ],
   "source": [
    "read_config()"
   ]
  }
 ],
 "metadata": {
  "kernelspec": {
   "display_name": "Python 3",
   "language": "python",
   "name": "python3"
  },
  "language_info": {
   "codemirror_mode": {
    "name": "ipython",
    "version": 3
   },
   "file_extension": ".py",
   "mimetype": "text/x-python",
   "name": "python",
   "nbconvert_exporter": "python",
   "pygments_lexer": "ipython3",
   "version": "3.7.6"
  }
 },
 "nbformat": 4,
 "nbformat_minor": 4
}
